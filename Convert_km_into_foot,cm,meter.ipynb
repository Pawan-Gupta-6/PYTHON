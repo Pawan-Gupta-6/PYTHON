{
  "nbformat": 4,
  "nbformat_minor": 0,
  "metadata": {
    "colab": {
      "provenance": [],
      "authorship_tag": "ABX9TyMtlGGHLDZpiC05MrQyFYRl",
      "include_colab_link": true
    },
    "kernelspec": {
      "name": "python3",
      "display_name": "Python 3"
    },
    "language_info": {
      "name": "python"
    }
  },
  "cells": [
    {
      "cell_type": "markdown",
      "metadata": {
        "id": "view-in-github",
        "colab_type": "text"
      },
      "source": [
        "<a href=\"https://colab.research.google.com/github/Pawan-Gupta-6/PYTHON/blob/main/Convert_km_into_foot%2Ccm%2Cmeter.ipynb\" target=\"_parent\"><img src=\"https://colab.research.google.com/assets/colab-badge.svg\" alt=\"Open In Colab\"/></a>"
      ]
    },
    {
      "cell_type": "markdown",
      "source": [
        "The distance b/w two cities (in km.) is input throgh the keyboard.\n",
        "WAP to convert and print this distance in meters,feet , inches and centimeters."
      ],
      "metadata": {
        "id": "GkDVotuDaWle"
      }
    },
    {
      "cell_type": "code",
      "source": [
        "km=float(input(\"enter the distance in km:\"))"
      ],
      "metadata": {
        "colab": {
          "base_uri": "https://localhost:8080/"
        },
        "id": "2D04mfZebDmg",
        "outputId": "6a5e3d52-7148-49e7-8ff3-3c9a58a3f2bb"
      },
      "execution_count": 2,
      "outputs": [
        {
          "name": "stdout",
          "output_type": "stream",
          "text": [
            "enter the distance in km:20000\n"
          ]
        }
      ]
    },
    {
      "cell_type": "code",
      "source": [
        "m=km*1000"
      ],
      "metadata": {
        "id": "hk92JJAJbDpV"
      },
      "execution_count": 3,
      "outputs": []
    },
    {
      "cell_type": "code",
      "source": [
        "cm=100*m"
      ],
      "metadata": {
        "id": "OgrKImoiboWe"
      },
      "execution_count": 4,
      "outputs": []
    },
    {
      "cell_type": "code",
      "source": [
        "ft=30.48*cm"
      ],
      "metadata": {
        "id": "x6UIfGg5boZ1"
      },
      "execution_count": 7,
      "outputs": []
    },
    {
      "cell_type": "code",
      "source": [
        "print(km,m,cm,ft)"
      ],
      "metadata": {
        "colab": {
          "base_uri": "https://localhost:8080/"
        },
        "id": "um66oMqFbodU",
        "outputId": "0d71ba4c-fd70-459d-f70f-6d447e507619"
      },
      "execution_count": 8,
      "outputs": [
        {
          "output_type": "stream",
          "name": "stdout",
          "text": [
            "20000.0 20000000.0 2000000000.0 60960000000.0\n"
          ]
        }
      ]
    },
    {
      "cell_type": "code",
      "source": [],
      "metadata": {
        "id": "r1bNAOYHbogp"
      },
      "execution_count": null,
      "outputs": []
    },
    {
      "cell_type": "code",
      "source": [],
      "metadata": {
        "id": "9ScHHLozbolH"
      },
      "execution_count": null,
      "outputs": []
    }
  ]
}