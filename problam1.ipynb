{
  "cells": [
    {
      "cell_type": "markdown",
      "metadata": {
        "id": "view-in-github",
        "colab_type": "text"
      },
      "source": [
        "<a href=\"https://colab.research.google.com/github/Pawan-Gupta-6/PYTHON/blob/main/problam1.ipynb\" target=\"_parent\"><img src=\"https://colab.research.google.com/assets/colab-badge.svg\" alt=\"Open In Colab\"/></a>"
      ]
    },
    {
      "cell_type": "markdown",
      "id": "91aae1ba",
      "metadata": {
        "id": "91aae1ba"
      },
      "source": [
        "# Ramesh's basic salary is input through the keyword.his dearness allowence is 40% of basic salary and house rent allounce is 20% of basic salary write a program to calculate his gross salary"
      ]
    },
    {
      "cell_type": "code",
      "execution_count": 1,
      "id": "02599e5e",
      "metadata": {
        "colab": {
          "base_uri": "https://localhost:8080/"
        },
        "id": "02599e5e",
        "outputId": "e968e210-6ec4-4b18-b960-bbbf027ff138"
      },
      "outputs": [
        {
          "name": "stdout",
          "output_type": "stream",
          "text": [
            "enter basick salary:250000\n"
          ]
        }
      ],
      "source": [
        "S=float(input(\"enter basick salary:\"))\n"
      ]
    },
    {
      "cell_type": "code",
      "execution_count": 2,
      "id": "9c9febba",
      "metadata": {
        "colab": {
          "base_uri": "https://localhost:8080/"
        },
        "id": "9c9febba",
        "outputId": "80a9bf0d-5547-4d2f-a63d-03efaea9b06c"
      },
      "outputs": [
        {
          "output_type": "stream",
          "name": "stdout",
          "text": [
            "your basic salary is == 250000.0\n"
          ]
        }
      ],
      "source": [
        "print(\"your basic salary is ==\",S)"
      ]
    },
    {
      "cell_type": "code",
      "source": [
        "HA=(S*20)/100\n",
        "DA=(S*40)/100"
      ],
      "metadata": {
        "id": "zyb7-SdlWtjq"
      },
      "id": "zyb7-SdlWtjq",
      "execution_count": 4,
      "outputs": []
    },
    {
      "cell_type": "code",
      "source": [
        "GS=S+HA+DA"
      ],
      "metadata": {
        "id": "rVw60qbIWt14"
      },
      "id": "rVw60qbIWt14",
      "execution_count": 5,
      "outputs": []
    },
    {
      "cell_type": "code",
      "source": [
        "GS"
      ],
      "metadata": {
        "colab": {
          "base_uri": "https://localhost:8080/"
        },
        "id": "jXobXlIhWuD5",
        "outputId": "886f3a8f-b7f3-4e26-be48-765188b0e5ef"
      },
      "id": "jXobXlIhWuD5",
      "execution_count": 6,
      "outputs": [
        {
          "output_type": "execute_result",
          "data": {
            "text/plain": [
              "400000.0"
            ]
          },
          "metadata": {},
          "execution_count": 6
        }
      ]
    }
  ],
  "metadata": {
    "kernelspec": {
      "display_name": "Python 3 (ipykernel)",
      "language": "python",
      "name": "python3"
    },
    "language_info": {
      "codemirror_mode": {
        "name": "ipython",
        "version": 3
      },
      "file_extension": ".py",
      "mimetype": "text/x-python",
      "name": "python",
      "nbconvert_exporter": "python",
      "pygments_lexer": "ipython3",
      "version": "3.11.3"
    },
    "colab": {
      "provenance": [],
      "include_colab_link": true
    }
  },
  "nbformat": 4,
  "nbformat_minor": 5
}